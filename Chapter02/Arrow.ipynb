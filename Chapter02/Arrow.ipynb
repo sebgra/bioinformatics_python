{
 "cells": [
  {
   "cell_type": "code",
   "execution_count": 1,
   "metadata": {},
   "outputs": [],
   "source": [
    "import gzip\n",
    "import pandas as pd\n",
    "from pyarrow import csv\n",
    "import pyarrow.compute as pc"
   ]
  },
  {
   "cell_type": "code",
   "execution_count": 3,
   "metadata": {},
   "outputs": [
    {
     "name": "stderr",
     "output_type": "stream",
     "text": [
      "/tmp/ipykernel_28147/4154873046.py:1: DtypeWarning: Columns (7,12,15,23) have mixed types. Specify dtype option on import or set low_memory=False.\n",
      "  vdata_pd = pd.read_csv(\"/home/sebastien/Documents/2021VAERSDATA.csv\", encoding=\"iso-8859-1\")\n"
     ]
    },
    {
     "name": "stdout",
     "output_type": "stream",
     "text": [
      "<class 'pandas.core.frame.DataFrame'>\n",
      "RangeIndex: 753123 entries, 0 to 753122\n",
      "Data columns (total 35 columns):\n",
      " #   Column        Non-Null Count   Dtype  \n",
      "---  ------        --------------   -----  \n",
      " 0   VAERS_ID      753123 non-null  int64  \n",
      " 1   RECVDATE      753123 non-null  object \n",
      " 2   STATE         637220 non-null  object \n",
      " 3   AGE_YRS       672085 non-null  float64\n",
      " 4   CAGE_YR       604405 non-null  float64\n",
      " 5   CAGE_MO       4301 non-null    float64\n",
      " 6   SEX           753123 non-null  object \n",
      " 7   RPT_DATE      928 non-null     object \n",
      " 8   SYMPTOM_TEXT  752546 non-null  object \n",
      " 9   DIED          10555 non-null   object \n",
      " 10  DATEDIED      9389 non-null    object \n",
      " 11  L_THREAT      11126 non-null   object \n",
      " 12  ER_VISIT      127 non-null     object \n",
      " 13  HOSPITAL      47496 non-null   object \n",
      " 14  HOSPDAYS      31211 non-null   float64\n",
      " 15  X_STAY        378 non-null     object \n",
      " 16  DISABLE       11982 non-null   object \n",
      " 17  RECOVD        679685 non-null  object \n",
      " 18  VAX_DATE      697354 non-null  object \n",
      " 19  ONSET_DATE    687275 non-null  object \n",
      " 20  NUMDAYS       658546 non-null  float64\n",
      " 21  LAB_DATA      229261 non-null  object \n",
      " 22  V_ADMINBY     753123 non-null  object \n",
      " 23  V_FUNDBY      997 non-null     object \n",
      " 24  OTHER_MEDS    372091 non-null  object \n",
      " 25  CUR_ILL       208553 non-null  object \n",
      " 26  HISTORY       374959 non-null  object \n",
      " 27  PRIOR_VAX     36455 non-null   object \n",
      " 28  SPLTTYPE      220010 non-null  object \n",
      " 29  FORM_VERS     753123 non-null  int64  \n",
      " 30  TODAYS_DATE   747563 non-null  object \n",
      " 31  BIRTH_DEFECT  460 non-null     object \n",
      " 32  OFC_VISIT     144558 non-null  object \n",
      " 33  ER_ED_VISIT   90331 non-null   object \n",
      " 34  ALLERGIES     298559 non-null  object \n",
      "dtypes: float64(5), int64(2), object(28)\n",
      "memory usage: 1.4 GB\n"
     ]
    }
   ],
   "source": [
    "vdata_pd = pd.read_csv(\"/home/sebastien/Documents/2021VAERSDATA.csv\", encoding=\"iso-8859-1\")\n",
    "columns = list(vdata_pd.columns)\n",
    "vdata_pd.info(memory_usage=\"deep\")"
   ]
  },
  {
   "cell_type": "code",
   "execution_count": 4,
   "metadata": {},
   "outputs": [
    {
     "name": "stdout",
     "output_type": "stream",
     "text": [
      "Total 691 MB\n"
     ]
    }
   ],
   "source": [
    "vdata_arrow = csv.read_csv(\"/home/sebastien/Documents/2021VAERSDATA.csv\")\n",
    "tot_bytes = sum([\n",
    "    vdata_arrow[name].nbytes\n",
    "    for name in vdata_arrow.column_names])\n",
    "print(f\"Total {tot_bytes // (1024 ** 2)} MB\")"
   ]
  },
  {
   "cell_type": "code",
   "execution_count": 5,
   "metadata": {},
   "outputs": [
    {
     "name": "stdout",
     "output_type": "stream",
     "text": [
      "VAERS_ID int64 5 int64 5\n",
      "RECVDATE string 10 object 48\n",
      "STATE string 4 object 39\n",
      "AGE_YRS double 5 float64 5\n",
      "CAGE_YR int64 5 float64 5\n",
      "CAGE_MO double 5 float64 5\n",
      "SEX string 3 object 41\n",
      "RPT_DATE string 2 object 23\n",
      "SYMPTOM_TEXT binary 458 object 496\n",
      "DIED string 2 object 23\n",
      "DATEDIED string 2 object 23\n",
      "L_THREAT string 2 object 23\n",
      "ER_VISIT string 2 object 22\n",
      "HOSPITAL string 2 object 24\n",
      "HOSPDAYS int64 5 float64 5\n",
      "X_STAY string 2 object 22\n",
      "DISABLE string 2 object 23\n",
      "RECOVD string 3 object 39\n",
      "VAX_DATE string 9 object 46\n",
      "ONSET_DATE string 9 object 45\n",
      "NUMDAYS int64 5 float64 5\n",
      "LAB_DATA binary 27 object 53\n",
      "V_ADMINBY string 5 object 43\n",
      "V_FUNDBY string 2 object 23\n",
      "OTHER_MEDS binary 22 object 50\n",
      "CUR_ILL binary 8 object 33\n",
      "HISTORY binary 21 object 50\n",
      "PRIOR_VAX binary 4 object 25\n",
      "SPLTTYPE string 7 object 32\n",
      "FORM_VERS int64 5 int64 5\n",
      "TODAYS_DATE string 10 object 47\n",
      "BIRTH_DEFECT string 2 object 22\n",
      "OFC_VISIT string 3 object 26\n",
      "ER_ED_VISIT string 2 object 25\n",
      "ALLERGIES binary 9 object 36\n"
     ]
    }
   ],
   "source": [
    "for name in vdata_arrow.column_names:\n",
    "    arr_bytes = vdata_arrow[name].nbytes\n",
    "    arr_type = vdata_arrow[name].type\n",
    "    pd_bytes = vdata_pd[name].memory_usage(index=False, deep=True)\n",
    "    pd_type = vdata_pd[name].dtype\n",
    "    print(\n",
    "        name,\n",
    "        arr_type, arr_bytes // (1024 ** 2),\n",
    "        pd_type, pd_bytes // (1024 ** 2),)"
   ]
  }
 ],
 "metadata": {
  "kernelspec": {
   "display_name": "bioinformatics",
   "language": "python",
   "name": "python3"
  },
  "language_info": {
   "codemirror_mode": {
    "name": "ipython",
    "version": 3
   },
   "file_extension": ".py",
   "mimetype": "text/x-python",
   "name": "python",
   "nbconvert_exporter": "python",
   "pygments_lexer": "ipython3",
   "version": "3.10.0"
  }
 },
 "nbformat": 4,
 "nbformat_minor": 2
}
